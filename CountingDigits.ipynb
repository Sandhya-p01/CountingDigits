{
 "cells": [
  {
   "cell_type": "code",
   "execution_count": 1,
   "id": "14bf8819-e6af-48c2-93bf-da3a345cc338",
   "metadata": {},
   "outputs": [
    {
     "name": "stdin",
     "output_type": "stream",
     "text": [
      "enter n value: 12\n"
     ]
    },
    {
     "name": "stdout",
     "output_type": "stream",
     "text": [
      "1\n",
      "2\n",
      "3\n",
      "4\n",
      "division is not possible\n",
      "6\n",
      "division is not possible\n",
      "division is not possible\n",
      "division is not possible\n",
      "division is not possible\n",
      "division is not possible\n",
      "12\n"
     ]
    }
   ],
   "source": [
    "n=int(input(\"enter n value:\"))\n",
    "count=0\n",
    "for i in range(1,n+1):\n",
    "    if(n%i==0):\n",
    "        print(i)\n",
    "    else:\n",
    "        print(\"division is not possible\")"
   ]
  },
  {
   "cell_type": "code",
   "execution_count": null,
   "id": "e28c863f-e1d3-4ae3-b491-7a327a518a8f",
   "metadata": {},
   "outputs": [],
   "source": []
  }
 ],
 "metadata": {
  "kernelspec": {
   "display_name": "Python 3 (ipykernel)",
   "language": "python",
   "name": "python3"
  },
  "language_info": {
   "codemirror_mode": {
    "name": "ipython",
    "version": 3
   },
   "file_extension": ".py",
   "mimetype": "text/x-python",
   "name": "python",
   "nbconvert_exporter": "python",
   "pygments_lexer": "ipython3",
   "version": "3.12.7"
  }
 },
 "nbformat": 4,
 "nbformat_minor": 5
}
